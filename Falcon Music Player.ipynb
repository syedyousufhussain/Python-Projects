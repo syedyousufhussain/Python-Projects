{
 "cells": [
  {
   "cell_type": "code",
   "execution_count": 4,
   "metadata": {},
   "outputs": [],
   "source": [
    "from tkinter import *\n",
    "from tkinter import filedialog\n",
    "from pygame import mixer\n",
    "\n",
    "class MusicPlayer:\n",
    "    def __init__(self, window ):\n",
    "        # initiating size of the window\n",
    "        window.geometry('320x100'); window.title('Falcon Music Player'); window.resizable(0,0)\n",
    "        # Adding Buttons\n",
    "        Load = Button(yousuf, text = 'Load',  width = 10, font = ('Times', 10), command = self.load)\n",
    "        Play = Button(yousuf, text = 'Play',  width = 10,font = ('Times', 10), command = self.play)\n",
    "        Pause = Button(yousuf,text = 'Pause',  width = 10, font = ('Times', 10), command = self.pause)\n",
    "        Stop = Button(yousuf,text = 'Stop',  width = 10, font = ('Times', 10), command = self.stop)\n",
    "        Load.grid(row=0,column=1);Play.grid(row=0,column=2);Pause.grid(row=0,column=3);Stop.grid(row=0,column=4) \n",
    "        self.music_file = False\n",
    "        self.playing_state = False\n",
    "        \n",
    "        # For fetching the audio files from the directory\n",
    "        \n",
    "    def load(self):\n",
    "        self.music_file = filedialog.askopenfilename()\n",
    "        \n",
    "        #Function for Playing the added audio file\n",
    "        \n",
    "    def play(self):\n",
    "        if self.music_file:\n",
    "            mixer.init()# For initiating the pygame \n",
    "            mixer.music.load(self.music_file)\n",
    "            mixer.music.play()\n",
    "            \n",
    "    def pause(self):\n",
    "        if not self.playing_state:\n",
    "            mixer.music.pause()\n",
    "            self.playing_state=True\n",
    "        else:\n",
    "            mixer.music.unpause()\n",
    "            self.playing_state = False\n",
    "    def stop(self):\n",
    "        mixer.music.stop()\n",
    "yousuf= Tk()\n",
    "app= MusicPlayer(yousuf)\n",
    "yousuf.mainloop()"
   ]
  },
  {
   "cell_type": "code",
   "execution_count": null,
   "metadata": {},
   "outputs": [],
   "source": []
  }
 ],
 "metadata": {
  "kernelspec": {
   "display_name": "Python 3",
   "language": "python",
   "name": "python3"
  },
  "language_info": {
   "codemirror_mode": {
    "name": "ipython",
    "version": 3
   },
   "file_extension": ".py",
   "mimetype": "text/x-python",
   "name": "python",
   "nbconvert_exporter": "python",
   "pygments_lexer": "ipython3",
   "version": "3.7.6"
  }
 },
 "nbformat": 4,
 "nbformat_minor": 4
}
